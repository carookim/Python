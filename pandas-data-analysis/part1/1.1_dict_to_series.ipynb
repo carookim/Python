{
 "cells": [
  {
   "cell_type": "markdown",
   "metadata": {
    "id": "diPbh0N3QtZJ"
   },
   "source": [
    "# 파이썬 딕셔너리(Dictionary) 객체를 판다스 시리즈(Series)로 변환"
   ]
  },
  {
   "cell_type": "code",
   "execution_count": null,
   "metadata": {},
   "outputs": [
    {
     "name": "stdout",
     "output_type": "stream",
     "text": [
      "Requirement already satisfied: pandas in c:\\김지은\\파이썬_src\\.venv\\lib\\site-packages (2.3.2)\n",
      "Requirement already satisfied: numpy>=1.26.0 in c:\\김지은\\파이썬_src\\.venv\\lib\\site-packages (from pandas) (2.3.3)\n",
      "Requirement already satisfied: python-dateutil>=2.8.2 in c:\\김지은\\파이썬_src\\.venv\\lib\\site-packages (from pandas) (2.9.0.post0)\n",
      "Requirement already satisfied: pytz>=2020.1 in c:\\김지은\\파이썬_src\\.venv\\lib\\site-packages (from pandas) (2025.2)\n",
      "Requirement already satisfied: tzdata>=2022.7 in c:\\김지은\\파이썬_src\\.venv\\lib\\site-packages (from pandas) (2025.2)\n",
      "Requirement already satisfied: six>=1.5 in c:\\김지은\\파이썬_src\\.venv\\lib\\site-packages (from python-dateutil>=2.8.2->pandas) (1.17.0)\n",
      "Note: you may need to restart the kernel to use updated packages.\n"
     ]
    }
   ],
   "source": [
    "%pip install pandas\n",
    "# conda install pandas"
   ]
  },
  {
   "cell_type": "code",
   "execution_count": 1,
   "metadata": {
    "id": "PSJ0UQVYOkXc",
    "tags": []
   },
   "outputs": [],
   "source": [
    "# pandas 불러오기 (pyarrow 설치 권장)\n",
    "import pandas as pd"
   ]
  },
  {
   "cell_type": "code",
   "execution_count": 2,
   "metadata": {
    "id": "n602AMaqO3nQ",
    "tags": []
   },
   "outputs": [],
   "source": [
    "# k:v 구조를 갖는 딕셔너리를 만들고, 변수 dict_data에 저장\n",
    "dict_data = {'a': 1, 'b': 2, 'c': 3}"
   ]
  },
  {
   "cell_type": "code",
   "execution_count": 3,
   "metadata": {
    "tags": []
   },
   "outputs": [
    {
     "data": {
      "text/plain": [
       "{'a': 1, 'b': 2, 'c': 3}"
      ]
     },
     "execution_count": 3,
     "metadata": {},
     "output_type": "execute_result"
    }
   ],
   "source": [
    "dict_data"
   ]
  },
  {
   "cell_type": "code",
   "execution_count": 4,
   "metadata": {
    "id": "v705ycNdO3qt",
    "tags": []
   },
   "outputs": [],
   "source": [
    "# 판다스 Series() 함수로 딕셔너리(dict_data)를 시리즈로 변환. 변수 sr에 저장\n",
    "sr = pd.Series(dict_data)"
   ]
  },
  {
   "cell_type": "code",
   "execution_count": 5,
   "metadata": {
    "tags": []
   },
   "outputs": [
    {
     "data": {
      "text/plain": [
       "pandas.core.series.Series"
      ]
     },
     "execution_count": 5,
     "metadata": {},
     "output_type": "execute_result"
    }
   ],
   "source": [
    "type(sr)"
   ]
  },
  {
   "cell_type": "code",
   "execution_count": 6,
   "metadata": {
    "colab": {
     "base_uri": "https://localhost:8080/"
    },
    "executionInfo": {
     "elapsed": 392,
     "status": "ok",
     "timestamp": 1706163078326,
     "user": {
      "displayName": "Steve",
      "userId": "13015281013241816762"
     },
     "user_tz": -540
    },
    "id": "n_h8PitoPGsh",
    "outputId": "cd952728-63b2-45ad-fa87-b6db8346696b",
    "tags": []
   },
   "outputs": [
    {
     "name": "stdout",
     "output_type": "stream",
     "text": [
      "<class 'pandas.core.series.Series'>\n"
     ]
    }
   ],
   "source": [
    "# 변수 sr의 자료형 출력\n",
    "print(type(sr))"
   ]
  },
  {
   "cell_type": "code",
   "execution_count": 7,
   "metadata": {
    "colab": {
     "base_uri": "https://localhost:8080/"
    },
    "executionInfo": {
     "elapsed": 262,
     "status": "ok",
     "timestamp": 1706163080574,
     "user": {
      "displayName": "Steve",
      "userId": "13015281013241816762"
     },
     "user_tz": -540
    },
    "id": "RHHBsBnqO3uh",
    "outputId": "ca137065-812e-40b4-9422-67e14d0f6556",
    "tags": []
   },
   "outputs": [
    {
     "name": "stdout",
     "output_type": "stream",
     "text": [
      "a    1\n",
      "b    2\n",
      "c    3\n",
      "dtype: int64\n"
     ]
    }
   ],
   "source": [
    "# 변수 sr에 저장되어 있는 시리즈 객체를 출력\n",
    "print(sr)"
   ]
  },
  {
   "cell_type": "code",
   "execution_count": 10,
   "metadata": {
    "colab": {
     "base_uri": "https://localhost:8080/"
    },
    "executionInfo": {
     "elapsed": 4,
     "status": "ok",
     "timestamp": 1706163104499,
     "user": {
      "displayName": "Steve",
      "userId": "13015281013241816762"
     },
     "user_tz": -540
    },
    "id": "6zaohdLAPont",
    "outputId": "7d93d3c5-9190-47c4-96ec-d58430b75c61",
    "tags": []
   },
   "outputs": [
    {
     "data": {
      "text/plain": [
       "a    1\n",
       "b    2\n",
       "c    3\n",
       "dtype: int64"
      ]
     },
     "execution_count": 10,
     "metadata": {},
     "output_type": "execute_result"
    }
   ],
   "source": [
    "# 주피터 환경에서 변수 출력\n",
    "sr"
   ]
  },
  {
   "cell_type": "code",
   "execution_count": 9,
   "metadata": {},
   "outputs": [
    {
     "data": {
      "text/plain": [
       "10    1\n",
       "2     2\n",
       "3     3\n",
       "dtype: int64"
      ]
     },
     "execution_count": 9,
     "metadata": {},
     "output_type": "execute_result"
    }
   ],
   "source": [
    "list_1 = [1,2,3]\n",
    "pd.Series(list_1,index = (10,2,3))"
   ]
  },
  {
   "cell_type": "code",
   "execution_count": 11,
   "metadata": {},
   "outputs": [
    {
     "data": {
      "text/plain": [
       "10   NaN\n",
       "1    NaN\n",
       "dtype: float64"
      ]
     },
     "execution_count": 11,
     "metadata": {},
     "output_type": "execute_result"
    }
   ],
   "source": [
    "dict_1 = {'a':1,'b':2}\n",
    "pd.Series(dict_1,index=[10,1])"
   ]
  },
  {
   "cell_type": "code",
   "execution_count": null,
   "metadata": {},
   "outputs": [],
   "source": [
    "# 임의의 dictionary 데이터\n",
    "# 임의의 list 데이터\n",
    "# 각각 시리즈를 만들고 인덱스로 자유롭게 설정"
   ]
  },
  {
   "cell_type": "code",
   "execution_count": 13,
   "metadata": {},
   "outputs": [
    {
     "data": {
      "text/plain": [
       "10     15\n",
       "1      24\n",
       "2     470\n",
       "dtype: int64"
      ]
     },
     "execution_count": 13,
     "metadata": {},
     "output_type": "execute_result"
    }
   ],
   "source": [
    "list_2 = [15,24,470]\n",
    "pd.Series(list_2,index=(10,1,2))"
   ]
  },
  {
   "cell_type": "code",
   "execution_count": null,
   "metadata": {},
   "outputs": [
    {
     "data": {
      "text/plain": [
       "10    NaN\n",
       "1     화물차\n",
       "13    NaN\n",
       "dtype: object"
      ]
     },
     "execution_count": 16,
     "metadata": {},
     "output_type": "execute_result"
    }
   ],
   "source": [
    "dict_2 = {0 : '승용차',1 : '화물차',2 : '승합차'}\n",
    "pd.Series(dict_2,index=(10,1,13))\n",
    "# Pandas는 각 index(10, 1, 13)를 dict의 key와 매칭하려고 해요.\n",
    "# 그래서 0,1,2 key값/인덱스값에 들어가지지않는다. 없는 값은 없다'NaN'으로 나온다."
   ]
  },
  {
   "cell_type": "code",
   "execution_count": null,
   "metadata": {},
   "outputs": [
    {
     "name": "stdout",
     "output_type": "stream",
     "text": [
      "[96 96 98 95 98 93]\n",
      "<class 'numpy.ndarray'>\n",
      "Index(['박미애', '최영희', '박철수', '박영희', '최철수', '김미애'], dtype='object')\n",
      "<class 'pandas.core.indexes.base.Index'>\n"
     ]
    }
   ],
   "source": [
    "import random\n",
    "scores = [random.randint(85,100) for i in range(10)]\n",
    "last_names = ['김','이','박','최']\n",
    "first_names = ['철수','영희','미애']\n",
    "names = [random.choice(last_names) + random.choice(first_names) for i in range(10)]\n",
    "scores, names\n",
    "temp_dict = dict(list(zip(names,scores)))\n",
    "\n",
    "# dict -> Serices\n",
    "s = pd.Series(temp_dict)\n",
    "print(s.values)\n",
    "print(type(s.values))\n",
    "# 딕셔너리 value가 series의 value가 되면서 numpy 객체로 변환\n",
    "print(s.index)\n",
    "print(type(s.index))"
   ]
  }
 ],
 "metadata": {
  "colab": {
   "authorship_tag": "ABX9TyMs2eanmNFIbipjw/iv69NH",
   "provenance": []
  },
  "kernelspec": {
   "display_name": ".venv",
   "language": "python",
   "name": "python3"
  },
  "language_info": {
   "codemirror_mode": {
    "name": "ipython",
    "version": 3
   },
   "file_extension": ".py",
   "mimetype": "text/x-python",
   "name": "python",
   "nbconvert_exporter": "python",
   "pygments_lexer": "ipython3",
   "version": "3.13.7"
  }
 },
 "nbformat": 4,
 "nbformat_minor": 4
}
